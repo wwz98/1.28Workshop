{
 "cells": [
  {
   "cell_type": "markdown",
   "metadata": {},
   "source": [
    "Hello! This is the notebook for stochastic models in Python. \n",
    "Remember always run blocks in order. Always run \"import numpy as np\" at the very beginning. "
   ]
  },
  {
   "cell_type": "code",
   "execution_count": null,
   "metadata": {},
   "outputs": [],
   "source": [
    "import numpy as np"
   ]
  },
  {
   "cell_type": "markdown",
   "metadata": {},
   "source": [
    "Now introduce the 'def' statement in Python. The 'def' works as a function in general math: we make some inputs, have the Python do some calculations, then obtain outputs. The structure is: "
   ]
  },
  {
   "cell_type": "code",
   "execution_count": null,
   "metadata": {},
   "outputs": [],
   "source": [
    "#DO NOT run this block!\n",
    "\n",
    "def functionname(input1,input2,...):\n",
    "    sentences: #make inputs to outputs\n",
    "    return (output1,output2,...)\n"
   ]
  },
  {
   "cell_type": "markdown",
   "metadata": {},
   "source": [
    "Give a simple example: input a number, output its sqaure. Observe how do we actually use the function. "
   ]
  },
  {
   "cell_type": "code",
   "execution_count": null,
   "metadata": {},
   "outputs": [],
   "source": [
    "x=5\n",
    "\n",
    "def sq(y):\n",
    "    z=y**2\n",
    "    return z\n",
    "\n",
    "a=sq(7)\n",
    "print(a)"
   ]
  },
  {
   "cell_type": "code",
   "execution_count": null,
   "metadata": {},
   "outputs": [],
   "source": [
    "sq(-4.3)"
   ]
  },
  {
   "cell_type": "markdown",
   "metadata": {},
   "source": [
    "The code for the Four-State Markov Chain:"
   ]
  },
  {
   "cell_type": "code",
   "execution_count": null,
   "metadata": {},
   "outputs": [],
   "source": [
    "def weather_forecast(days, init):\n",
    "    weatherToday = init\n",
    "    weatherList = [weatherToday]\n",
    "    k = 0\n",
    "    prob = 1.0\n",
    "    while k < days:\n",
    "        if weatherToday == \"0\":\n",
    "            event = np.random.choice(possibleEvents[0], replace=True, p=transitionMatrix[0])\n",
    "            if event == \"00\":\n",
    "                prob *= transitionMatrix[0][0]\n",
    "            elif event == \"01\":\n",
    "                prob *= transitionMatrix[0][1]\n",
    "                weatherToday = \"1\"\n",
    "            elif event == \"02\":\n",
    "                prob *= transitionMatrix[0][2]\n",
    "                weatherToday = \"2\"\n",
    "            else:\n",
    "                prob *= transitionMatrix[0][3]\n",
    "                weatherToday = \"3\"\n",
    "            weatherList.append(weatherToday)\n",
    "        elif weatherToday == \"1\":\n",
    "            event = np.random.choice(possibleEvents[1], replace=True, p=transitionMatrix[1])\n",
    "            if event == \"11\":\n",
    "                prob *= transitionMatrix[1][1]\n",
    "            elif event == \"10\":\n",
    "                prob *= transitionMatrix[1][0]\n",
    "                weatherToday = \"0\"\n",
    "            elif event == \"12\":\n",
    "                prob *= transitionMatrix[1][2]\n",
    "                weatherToday = \"2\"\n",
    "            else:\n",
    "                prob *= transitionMatrix[1][3]\n",
    "                weatherToday = \"3\"\n",
    "            weatherList.append(weatherToday)\n",
    "        elif weatherToday == \"2\":\n",
    "            event = np.random.choice(possibleEvents[2], replace=True, p=transitionMatrix[2])\n",
    "            if event == \"22\":\n",
    "                prob *= transitionMatrix[2][2]\n",
    "            elif event == \"20\":\n",
    "                prob *= transitionMatrix[2][0]\n",
    "                weatherToday = \"0\"\n",
    "            elif event == \"21\":\n",
    "                prob *= transitionMatrix[2][1]\n",
    "                weatherToday = \"1\"\n",
    "            else:\n",
    "                prob *= transitionMatrix[2][3]\n",
    "                weatherToday = \"3\"\n",
    "            weatherList.append(weatherToday)\n",
    "        elif weatherToday == \"3\":\n",
    "            event = np.random.choice(possibleEvents[3], replace=True, p=transitionMatrix[3])\n",
    "            if event == \"33\":\n",
    "                prob *= transitionMatrix[3][3]\n",
    "            elif event == \"30\":\n",
    "                prob *= transitionMatrix[3][0]\n",
    "                weatherToday = \"0\"\n",
    "            elif event == \"31\":\n",
    "                prob *= transitionMatrix[3][1]\n",
    "                weatherToday = \"1\"\n",
    "            else:\n",
    "                prob *= transitionMatrix[3][2]\n",
    "                weatherToday = \"2\"\n",
    "            weatherList.append(weatherToday)\n",
    "\n",
    "        k += 1\n",
    "\n",
    "    return (weatherList, prob)\n",
    "\n",
    "\n",
    "# The state space\n",
    "states = [\"0\", \"1\", \"2\", \"3\"]\n",
    "\n",
    "# Possible sequence of events\n",
    "possibleEvents = [[\"00\", \"01\", \"02\", \"03\"], [\"10\", \"11\", \"12\", \"13\"],\n",
    "                  [\"20\", \"21\", \"22\", \"23\"], [\"30\", \"31\", \"32\", \"33\"]]\n",
    "\n",
    "# Transition probability matrix\n",
    "transitionMatrix = [[0.7, 0.0, 0.3, 0.0], [0.5, 0.0, 0.5, 0.0],\n",
    "                    [0.0, 0.4, 0.0, 0.6], [0.0, 0.2, 0.0, 0.8]]\n",
    "\n",
    "days = 2\n",
    "init = states[0]\n",
    "[x, y] = weather_forecast(days, init)\n",
    "\n",
    "print(\"Start state: %s\" % x[0])\n",
    "print(\"Possible states: %s\" % str(x))\n",
    "print(\"Probability of the possible sequence of states: %s\" % str(y))"
   ]
  },
  {
   "cell_type": "code",
   "execution_count": null,
   "metadata": {},
   "outputs": [],
   "source": []
  }
 ],
 "metadata": {
  "kernelspec": {
   "display_name": "Python 3",
   "language": "python",
   "name": "python3"
  },
  "language_info": {
   "codemirror_mode": {
    "name": "ipython",
    "version": 3
   },
   "file_extension": ".py",
   "mimetype": "text/x-python",
   "name": "python",
   "nbconvert_exporter": "python",
   "pygments_lexer": "ipython3",
   "version": "3.7.0"
  }
 },
 "nbformat": 4,
 "nbformat_minor": 2
}
