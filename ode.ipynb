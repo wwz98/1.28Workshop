{
 "cells": [
  {
   "cell_type": "markdown",
   "metadata": {},
   "source": [
    "Hello! This is the notebook for stochastic models in Python. Remember always run blocks in order. Always run \"import numpy as np\" at the very beginning."
   ]
  },
  {
   "cell_type": "code",
   "execution_count": null,
   "metadata": {},
   "outputs": [],
   "source": [
    "import numpy as np"
   ]
  },
  {
   "cell_type": "code",
   "execution_count": null,
   "metadata": {},
   "outputs": [],
   "source": [
    "import matplotlib.pyplot as plt\n",
    "%matplotlib inline"
   ]
  },
  {
   "cell_type": "markdown",
   "metadata": {},
   "source": [
    "Now introduce the 'def' statement in Python. The 'def' works as a function in general math: we make some inputs, have the Python do some calculations, then obtain outputs. The structure is:"
   ]
  },
  {
   "cell_type": "code",
   "execution_count": null,
   "metadata": {},
   "outputs": [],
   "source": [
    "#DO NOT run this block!\n",
    "\n",
    "def functionname(input1,input2,...):\n",
    "    sentences: #make inputs to outputs\n",
    "    return (output1,output2,...)\n"
   ]
  },
  {
   "cell_type": "markdown",
   "metadata": {},
   "source": [
    "Giving a simple example: input a number, output its sqaure. Observe how do we actually use the function."
   ]
  },
  {
   "cell_type": "code",
   "execution_count": null,
   "metadata": {},
   "outputs": [],
   "source": [
    "x=5\n",
    "\n",
    "def sq(y):\n",
    "    z=y**2\n",
    "    return z\n",
    "\n",
    "a=sq(7)\n",
    "print(a)"
   ]
  },
  {
   "cell_type": "code",
   "execution_count": null,
   "metadata": {},
   "outputs": [],
   "source": [
    "sq(-4.3)"
   ]
  },
  {
   "cell_type": "markdown",
   "metadata": {},
   "source": [
    "The code for solving the ODE of our interest:"
   ]
  },
  {
   "cell_type": "code",
   "execution_count": null,
   "metadata": {},
   "outputs": [],
   "source": [
    "from scipy.integrate import odeint\n",
    "\n",
    "# Define a function which calculates the derivative\n",
    "def dxdt(x, t):\n",
    "    d=1350*(1-0.3)/4-5.67*10**(-8)*x**4\n",
    "    return d\n",
    "\n",
    "ts = np.linspace(0,20,1000)\n",
    "x0 = 280  # the initial condition\n",
    "xs = odeint(dxdt, x0, ts)\n",
    "xs = np.array(xs).flatten()"
   ]
  },
  {
   "cell_type": "code",
   "execution_count": null,
   "metadata": {},
   "outputs": [],
   "source": [
    "#Plot the numerical solution\n",
    "plt.rcParams.update({'font.size': 14})  # increase the font size\n",
    "plt.xlabel(\"t\")\n",
    "plt.ylabel(\"x\")\n",
    "plt.plot(ts, xs);"
   ]
  },
  {
   "cell_type": "markdown",
   "metadata": {},
   "source": [
    "Observe how we use the 'odeint' statement:\n",
    "1. odeint(dxdt, x0, ts)\n",
    "2. dxdt: derivative\n",
    "3. x0: initial condition (according to the beginning of ts)\n",
    "4. ts: a sequence of time points for which to solve for x"
   ]
  },
  {
   "cell_type": "markdown",
   "metadata": {},
   "source": [
    "Remarks:\n",
    "1. The codes use statements including 'np.linspace, np.array, xlabel'\n",
    "2. More instructions online or https://sam-dolan.staff.shef.ac.uk/mas212/notebooks/ODE_Example.html"
   ]
  },
  {
   "cell_type": "markdown",
   "metadata": {},
   "source": [
    "Reference from PSU"
   ]
  }
 ],
 "metadata": {
  "kernelspec": {
   "display_name": "Python 3",
   "language": "python",
   "name": "python3"
  },
  "language_info": {
   "codemirror_mode": {
    "name": "ipython",
    "version": 3
   },
   "file_extension": ".py",
   "mimetype": "text/x-python",
   "name": "python",
   "nbconvert_exporter": "python",
   "pygments_lexer": "ipython3",
   "version": "3.7.0"
  }
 },
 "nbformat": 4,
 "nbformat_minor": 2
}
